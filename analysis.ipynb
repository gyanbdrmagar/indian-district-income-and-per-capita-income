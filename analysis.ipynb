{
 "cells": [
  {
   "cell_type": "code",
   "execution_count": 2,
   "metadata": {},
   "outputs": [
    {
     "name": "stdout",
     "output_type": "stream",
     "text": [
      "Collecting sweetviz\n",
      "  Downloading sweetviz-2.3.1-py3-none-any.whl.metadata (24 kB)\n",
      "Requirement already satisfied: pandas!=1.0.0,!=1.0.1,!=1.0.2,>=0.25.3 in /home/codespace/.local/lib/python3.12/site-packages (from sweetviz) (2.2.3)\n",
      "Requirement already satisfied: numpy>=1.16.0 in /home/codespace/.local/lib/python3.12/site-packages (from sweetviz) (2.2.0)\n",
      "Requirement already satisfied: matplotlib>=3.1.3 in /home/codespace/.local/lib/python3.12/site-packages (from sweetviz) (3.9.3)\n",
      "Collecting tqdm>=4.43.0 (from sweetviz)\n",
      "  Downloading tqdm-4.67.1-py3-none-any.whl.metadata (57 kB)\n",
      "Requirement already satisfied: scipy>=1.3.2 in /home/codespace/.local/lib/python3.12/site-packages (from sweetviz) (1.14.1)\n",
      "Requirement already satisfied: jinja2>=2.11.1 in /home/codespace/.local/lib/python3.12/site-packages (from sweetviz) (3.1.4)\n",
      "Collecting importlib-resources>=1.2.0 (from sweetviz)\n",
      "  Downloading importlib_resources-6.4.5-py3-none-any.whl.metadata (4.0 kB)\n",
      "Requirement already satisfied: MarkupSafe>=2.0 in /home/codespace/.local/lib/python3.12/site-packages (from jinja2>=2.11.1->sweetviz) (3.0.2)\n",
      "Requirement already satisfied: contourpy>=1.0.1 in /home/codespace/.local/lib/python3.12/site-packages (from matplotlib>=3.1.3->sweetviz) (1.3.1)\n",
      "Requirement already satisfied: cycler>=0.10 in /home/codespace/.local/lib/python3.12/site-packages (from matplotlib>=3.1.3->sweetviz) (0.12.1)\n",
      "Requirement already satisfied: fonttools>=4.22.0 in /home/codespace/.local/lib/python3.12/site-packages (from matplotlib>=3.1.3->sweetviz) (4.55.3)\n",
      "Requirement already satisfied: kiwisolver>=1.3.1 in /home/codespace/.local/lib/python3.12/site-packages (from matplotlib>=3.1.3->sweetviz) (1.4.7)\n",
      "Requirement already satisfied: packaging>=20.0 in /home/codespace/.local/lib/python3.12/site-packages (from matplotlib>=3.1.3->sweetviz) (24.2)\n",
      "Requirement already satisfied: pillow>=8 in /home/codespace/.local/lib/python3.12/site-packages (from matplotlib>=3.1.3->sweetviz) (11.0.0)\n",
      "Requirement already satisfied: pyparsing>=2.3.1 in /home/codespace/.local/lib/python3.12/site-packages (from matplotlib>=3.1.3->sweetviz) (3.2.0)\n",
      "Requirement already satisfied: python-dateutil>=2.7 in /home/codespace/.local/lib/python3.12/site-packages (from matplotlib>=3.1.3->sweetviz) (2.9.0.post0)\n",
      "Requirement already satisfied: pytz>=2020.1 in /home/codespace/.local/lib/python3.12/site-packages (from pandas!=1.0.0,!=1.0.1,!=1.0.2,>=0.25.3->sweetviz) (2024.2)\n",
      "Requirement already satisfied: tzdata>=2022.7 in /home/codespace/.local/lib/python3.12/site-packages (from pandas!=1.0.0,!=1.0.1,!=1.0.2,>=0.25.3->sweetviz) (2024.2)\n",
      "Requirement already satisfied: six>=1.5 in /home/codespace/.local/lib/python3.12/site-packages (from python-dateutil>=2.7->matplotlib>=3.1.3->sweetviz) (1.17.0)\n",
      "Downloading sweetviz-2.3.1-py3-none-any.whl (15.1 MB)\n",
      "\u001b[2K   \u001b[90m━━━━━━━━━━━━━━━━━━━━━━━━━━━━━━━━━━━━━━━━\u001b[0m \u001b[32m15.1/15.1 MB\u001b[0m \u001b[31m23.9 MB/s\u001b[0m eta \u001b[36m0:00:00\u001b[0m00:01\u001b[0m00:01\u001b[0m\n",
      "\u001b[?25hDownloading importlib_resources-6.4.5-py3-none-any.whl (36 kB)\n",
      "Downloading tqdm-4.67.1-py3-none-any.whl (78 kB)\n",
      "Installing collected packages: tqdm, importlib-resources, sweetviz\n",
      "Successfully installed importlib-resources-6.4.5 sweetviz-2.3.1 tqdm-4.67.1\n",
      "Note: you may need to restart the kernel to use updated packages.\n"
     ]
    }
   ],
   "source": [
    "pip install sweetviz"
   ]
  },
  {
   "cell_type": "code",
   "execution_count": 3,
   "metadata": {},
   "outputs": [
    {
     "name": "stderr",
     "output_type": "stream",
     "text": [
      "/usr/local/python/3.12.1/lib/python3.12/site-packages/tqdm/auto.py:21: TqdmWarning: IProgress not found. Please update jupyter and ipywidgets. See https://ipywidgets.readthedocs.io/en/stable/user_install.html\n",
      "  from .autonotebook import tqdm as notebook_tqdm\n"
     ]
    }
   ],
   "source": [
    "# importing all the necessary libraries\n",
    "\n",
    "import pandas as pd\n",
    "import numpy as np\n",
    "import sweetviz as sv\n"
   ]
  },
  {
   "cell_type": "code",
   "execution_count": 4,
   "metadata": {},
   "outputs": [],
   "source": [
    "#path (here not required can directly pass in the read section)\n",
    "file_path = 'dataset.csv'\n",
    "\n",
    "# Read the CSV file\n",
    "data = pd.read_csv(file_path)"
   ]
  },
  {
   "cell_type": "code",
   "execution_count": 5,
   "metadata": {},
   "outputs": [],
   "source": [
    "df = data.copy() # will keep the original dataset and work in copy this will keep the original if any mistake"
   ]
  },
  {
   "cell_type": "markdown",
   "metadata": {},
   "source": [
    "# <font color = 'blue'> Looking into data </font>\n",
    "1. Data type\n",
    "2. Summary Statistics\n",
    "3. santiy check"
   ]
  },
  {
   "cell_type": "code",
   "execution_count": 6,
   "metadata": {},
   "outputs": [
    {
     "data": {
      "text/html": [
       "<div>\n",
       "<style scoped>\n",
       "    .dataframe tbody tr th:only-of-type {\n",
       "        vertical-align: middle;\n",
       "    }\n",
       "\n",
       "    .dataframe tbody tr th {\n",
       "        vertical-align: top;\n",
       "    }\n",
       "\n",
       "    .dataframe thead th {\n",
       "        text-align: right;\n",
       "    }\n",
       "</style>\n",
       "<table border=\"1\" class=\"dataframe\">\n",
       "  <thead>\n",
       "    <tr style=\"text-align: right;\">\n",
       "      <th></th>\n",
       "      <th>taluk_name</th>\n",
       "      <th>At current prices 2018_19_Gross Distric Domestic Product(GDDP) in Lakhs</th>\n",
       "      <th>At current price 2018_19_Net District Domestic Product (NDDP) Rs in Lakhs</th>\n",
       "      <th>At constan price 2011-12_Gross distric Domestic Product(GDDP) Rs in Lakhs</th>\n",
       "      <th>At constan price 2011_12_Net District Domestic Product (NDDP) Rs in Lakhs</th>\n",
       "      <th>Per capita income in Rs_2018_19_At Current Prices</th>\n",
       "      <th>Per capita income in Rs_2011_12_At Constant Prices</th>\n",
       "    </tr>\n",
       "  </thead>\n",
       "  <tbody>\n",
       "    <tr>\n",
       "      <th>0</th>\n",
       "      <td>Afzalpur</td>\n",
       "      <td>203585</td>\n",
       "      <td>186705</td>\n",
       "      <td>154500</td>\n",
       "      <td>140566</td>\n",
       "      <td>79768</td>\n",
       "      <td>60056</td>\n",
       "    </tr>\n",
       "    <tr>\n",
       "      <th>1</th>\n",
       "      <td>Ajjampura</td>\n",
       "      <td>0</td>\n",
       "      <td>0</td>\n",
       "      <td>0</td>\n",
       "      <td>0</td>\n",
       "      <td>0</td>\n",
       "      <td>0</td>\n",
       "    </tr>\n",
       "  </tbody>\n",
       "</table>\n",
       "</div>"
      ],
      "text/plain": [
       "  taluk_name  \\\n",
       "0   Afzalpur   \n",
       "1  Ajjampura   \n",
       "\n",
       "   At current prices 2018_19_Gross Distric Domestic Product(GDDP) in Lakhs   \\\n",
       "0                                             203585                          \n",
       "1                                                  0                          \n",
       "\n",
       "   At current price 2018_19_Net District Domestic Product (NDDP) Rs in Lakhs   \\\n",
       "0                                             186705                            \n",
       "1                                                  0                            \n",
       "\n",
       "   At constan price 2011-12_Gross distric Domestic Product(GDDP) Rs in Lakhs   \\\n",
       "0                                             154500                            \n",
       "1                                                  0                            \n",
       "\n",
       "   At constan price 2011_12_Net District Domestic Product (NDDP) Rs in Lakhs   \\\n",
       "0                                             140566                            \n",
       "1                                                  0                            \n",
       "\n",
       "   Per capita income in Rs_2018_19_At Current Prices   \\\n",
       "0                                              79768    \n",
       "1                                                  0    \n",
       "\n",
       "   Per capita income in Rs_2011_12_At Constant Prices   \n",
       "0                                              60056    \n",
       "1                                                  0    "
      ]
     },
     "execution_count": 6,
     "metadata": {},
     "output_type": "execute_result"
    }
   ],
   "source": [
    "df.head(2)"
   ]
  },
  {
   "cell_type": "code",
   "execution_count": 7,
   "metadata": {},
   "outputs": [
    {
     "name": "stdout",
     "output_type": "stream",
     "text": [
      "<class 'pandas.core.frame.DataFrame'>\n",
      "RangeIndex: 228 entries, 0 to 227\n",
      "Data columns (total 7 columns):\n",
      " #   Column                                                                      Non-Null Count  Dtype \n",
      "---  ------                                                                      --------------  ----- \n",
      " 0   taluk_name                                                                  227 non-null    object\n",
      " 1   At current prices 2018_19_Gross Distric Domestic Product(GDDP) in Lakhs     228 non-null    int64 \n",
      " 2   At current price 2018_19_Net District Domestic Product (NDDP) Rs in Lakhs   228 non-null    int64 \n",
      " 3   At constan price 2011-12_Gross distric Domestic Product(GDDP) Rs in Lakhs   228 non-null    int64 \n",
      " 4   At constan price 2011_12_Net District Domestic Product (NDDP) Rs in Lakhs   228 non-null    int64 \n",
      " 5   Per capita income in Rs_2018_19_At Current Prices                           228 non-null    int64 \n",
      " 6   Per capita income in Rs_2011_12_At Constant Prices                          228 non-null    int64 \n",
      "dtypes: int64(6), object(1)\n",
      "memory usage: 12.6+ KB\n"
     ]
    }
   ],
   "source": [
    "df.info()"
   ]
  },
  {
   "cell_type": "code",
   "execution_count": 8,
   "metadata": {},
   "outputs": [
    {
     "data": {
      "text/html": [
       "<div>\n",
       "<style scoped>\n",
       "    .dataframe tbody tr th:only-of-type {\n",
       "        vertical-align: middle;\n",
       "    }\n",
       "\n",
       "    .dataframe tbody tr th {\n",
       "        vertical-align: top;\n",
       "    }\n",
       "\n",
       "    .dataframe thead th {\n",
       "        text-align: right;\n",
       "    }\n",
       "</style>\n",
       "<table border=\"1\" class=\"dataframe\">\n",
       "  <thead>\n",
       "    <tr style=\"text-align: right;\">\n",
       "      <th></th>\n",
       "      <th>At current prices 2018_19_Gross Distric Domestic Product(GDDP) in Lakhs</th>\n",
       "      <th>At current price 2018_19_Net District Domestic Product (NDDP) Rs in Lakhs</th>\n",
       "      <th>At constan price 2011-12_Gross distric Domestic Product(GDDP) Rs in Lakhs</th>\n",
       "      <th>At constan price 2011_12_Net District Domestic Product (NDDP) Rs in Lakhs</th>\n",
       "      <th>Per capita income in Rs_2018_19_At Current Prices</th>\n",
       "      <th>Per capita income in Rs_2011_12_At Constant Prices</th>\n",
       "    </tr>\n",
       "  </thead>\n",
       "  <tbody>\n",
       "    <tr>\n",
       "      <th>count</th>\n",
       "      <td>2.280000e+02</td>\n",
       "      <td>2.280000e+02</td>\n",
       "      <td>2.280000e+02</td>\n",
       "      <td>2.280000e+02</td>\n",
       "      <td>2.280000e+02</td>\n",
       "      <td>2.280000e+02</td>\n",
       "    </tr>\n",
       "    <tr>\n",
       "      <th>mean</th>\n",
       "      <td>1.013958e+06</td>\n",
       "      <td>9.218189e+05</td>\n",
       "      <td>7.848216e+05</td>\n",
       "      <td>7.061205e+05</td>\n",
       "      <td>2.059533e+05</td>\n",
       "      <td>1.579141e+05</td>\n",
       "    </tr>\n",
       "    <tr>\n",
       "      <th>std</th>\n",
       "      <td>7.836566e+06</td>\n",
       "      <td>7.120608e+06</td>\n",
       "      <td>6.062711e+06</td>\n",
       "      <td>5.451123e+06</td>\n",
       "      <td>1.550443e+06</td>\n",
       "      <td>1.188860e+06</td>\n",
       "    </tr>\n",
       "    <tr>\n",
       "      <th>min</th>\n",
       "      <td>0.000000e+00</td>\n",
       "      <td>0.000000e+00</td>\n",
       "      <td>0.000000e+00</td>\n",
       "      <td>0.000000e+00</td>\n",
       "      <td>0.000000e+00</td>\n",
       "      <td>0.000000e+00</td>\n",
       "    </tr>\n",
       "    <tr>\n",
       "      <th>25%</th>\n",
       "      <td>1.302215e+05</td>\n",
       "      <td>1.196572e+05</td>\n",
       "      <td>1.035415e+05</td>\n",
       "      <td>9.419475e+04</td>\n",
       "      <td>6.392075e+04</td>\n",
       "      <td>4.758525e+04</td>\n",
       "    </tr>\n",
       "    <tr>\n",
       "      <th>50%</th>\n",
       "      <td>2.968180e+05</td>\n",
       "      <td>2.726260e+05</td>\n",
       "      <td>2.251030e+05</td>\n",
       "      <td>2.023390e+05</td>\n",
       "      <td>9.939550e+04</td>\n",
       "      <td>7.478200e+04</td>\n",
       "    </tr>\n",
       "    <tr>\n",
       "      <th>75%</th>\n",
       "      <td>4.424308e+05</td>\n",
       "      <td>4.047832e+05</td>\n",
       "      <td>3.405080e+05</td>\n",
       "      <td>3.103038e+05</td>\n",
       "      <td>1.374140e+05</td>\n",
       "      <td>1.060495e+05</td>\n",
       "    </tr>\n",
       "    <tr>\n",
       "      <th>max</th>\n",
       "      <td>1.155912e+08</td>\n",
       "      <td>1.050874e+08</td>\n",
       "      <td>8.946966e+07</td>\n",
       "      <td>8.049773e+07</td>\n",
       "      <td>2.347867e+07</td>\n",
       "      <td>1.800220e+07</td>\n",
       "    </tr>\n",
       "  </tbody>\n",
       "</table>\n",
       "</div>"
      ],
      "text/plain": [
       "       At current prices 2018_19_Gross Distric Domestic Product(GDDP) in Lakhs   \\\n",
       "count                                       2.280000e+02                          \n",
       "mean                                        1.013958e+06                          \n",
       "std                                         7.836566e+06                          \n",
       "min                                         0.000000e+00                          \n",
       "25%                                         1.302215e+05                          \n",
       "50%                                         2.968180e+05                          \n",
       "75%                                         4.424308e+05                          \n",
       "max                                         1.155912e+08                          \n",
       "\n",
       "       At current price 2018_19_Net District Domestic Product (NDDP) Rs in Lakhs   \\\n",
       "count                                       2.280000e+02                            \n",
       "mean                                        9.218189e+05                            \n",
       "std                                         7.120608e+06                            \n",
       "min                                         0.000000e+00                            \n",
       "25%                                         1.196572e+05                            \n",
       "50%                                         2.726260e+05                            \n",
       "75%                                         4.047832e+05                            \n",
       "max                                         1.050874e+08                            \n",
       "\n",
       "       At constan price 2011-12_Gross distric Domestic Product(GDDP) Rs in Lakhs   \\\n",
       "count                                       2.280000e+02                            \n",
       "mean                                        7.848216e+05                            \n",
       "std                                         6.062711e+06                            \n",
       "min                                         0.000000e+00                            \n",
       "25%                                         1.035415e+05                            \n",
       "50%                                         2.251030e+05                            \n",
       "75%                                         3.405080e+05                            \n",
       "max                                         8.946966e+07                            \n",
       "\n",
       "       At constan price 2011_12_Net District Domestic Product (NDDP) Rs in Lakhs   \\\n",
       "count                                       2.280000e+02                            \n",
       "mean                                        7.061205e+05                            \n",
       "std                                         5.451123e+06                            \n",
       "min                                         0.000000e+00                            \n",
       "25%                                         9.419475e+04                            \n",
       "50%                                         2.023390e+05                            \n",
       "75%                                         3.103038e+05                            \n",
       "max                                         8.049773e+07                            \n",
       "\n",
       "       Per capita income in Rs_2018_19_At Current Prices   \\\n",
       "count                                       2.280000e+02    \n",
       "mean                                        2.059533e+05    \n",
       "std                                         1.550443e+06    \n",
       "min                                         0.000000e+00    \n",
       "25%                                         6.392075e+04    \n",
       "50%                                         9.939550e+04    \n",
       "75%                                         1.374140e+05    \n",
       "max                                         2.347867e+07    \n",
       "\n",
       "       Per capita income in Rs_2011_12_At Constant Prices   \n",
       "count                                       2.280000e+02    \n",
       "mean                                        1.579141e+05    \n",
       "std                                         1.188860e+06    \n",
       "min                                         0.000000e+00    \n",
       "25%                                         4.758525e+04    \n",
       "50%                                         7.478200e+04    \n",
       "75%                                         1.060495e+05    \n",
       "max                                         1.800220e+07    "
      ]
     },
     "execution_count": 8,
     "metadata": {},
     "output_type": "execute_result"
    }
   ],
   "source": [
    "# 2. summuary statistic\n",
    "df.describe()"
   ]
  },
  {
   "cell_type": "code",
   "execution_count": 9,
   "metadata": {},
   "outputs": [
    {
     "data": {
      "text/plain": [
       "taluk_name                                                                    1\n",
       "At current prices 2018_19_Gross Distric Domestic Product(GDDP) in Lakhs       0\n",
       "At current price 2018_19_Net District Domestic Product (NDDP) Rs in Lakhs     0\n",
       "At constan price 2011-12_Gross distric Domestic Product(GDDP) Rs in Lakhs     0\n",
       "At constan price 2011_12_Net District Domestic Product (NDDP) Rs in Lakhs     0\n",
       "Per capita income in Rs_2018_19_At Current Prices                             0\n",
       "Per capita income in Rs_2011_12_At Constant Prices                            0\n",
       "dtype: int64"
      ]
     },
     "execution_count": 9,
     "metadata": {},
     "output_type": "execute_result"
    }
   ],
   "source": [
    "# 3. santiy check\n",
    "df.isnull().sum()"
   ]
  },
  {
   "cell_type": "markdown",
   "metadata": {},
   "source": [
    "Their is only 1 null / missing values and it is in \"taluk_name\" column. As we know without taluk_name/district we cannot use there remaining data and required cleaning."
   ]
  },
  {
   "cell_type": "markdown",
   "metadata": {},
   "source": [
    "As original columns names are too long lets rename it and assign it short column names so it will \n",
    "become easy to code and use for analysis.\n",
    "\n",
    "\n",
    "#   Column                                                                       new column name \n",
    "---  ------                                                                      --------------                                                                   \n",
    " 1   At current prices 2018_19_Gross Distric Domestic Product(GDDP) in Lakhs      gddp_2018_2019 (variable name can't start with number / have certain operator sign)\n",
    " 2   At current price 2018_19_Net District Domestic Product (NDDP) Rs in Lakhs   nddp_2018_2019     \n",
    " 3   At constan price 2011-12_Gross distric Domestic Product(GDDP) Rs in Lakhs   gddp_2011_2012     \n",
    " 4   At constan price 2011_12_Net District Domestic Product (NDDP) Rs in Lakhs   nddp_2011_2012     \n",
    " 5   Per capita income in Rs_2018_19_At Current Prices                           pci_2018_2019     \n",
    " 6   Per capita income in Rs_2011_12_At Constant Prices                          pci_2011_2012     \n",
    "\n",
    "'''"
   ]
  },
  {
   "cell_type": "code",
   "execution_count": 10,
   "metadata": {},
   "outputs": [
    {
     "data": {
      "text/plain": [
       "['taluk_name',\n",
       " 'At current prices 2018_19_Gross Distric Domestic Product(GDDP) in Lakhs ',\n",
       " 'At current price 2018_19_Net District Domestic Product (NDDP) Rs in Lakhs ',\n",
       " 'At constan price 2011-12_Gross distric Domestic Product(GDDP) Rs in Lakhs ',\n",
       " 'At constan price 2011_12_Net District Domestic Product (NDDP) Rs in Lakhs ',\n",
       " 'Per capita income in Rs_2018_19_At Current Prices ',\n",
       " 'Per capita income in Rs_2011_12_At Constant Prices ']"
      ]
     },
     "execution_count": 10,
     "metadata": {},
     "output_type": "execute_result"
    }
   ],
   "source": [
    "# original column names to see if any whitespaces are \n",
    "df.columns.to_list()"
   ]
  },
  {
   "cell_type": "code",
   "execution_count": 13,
   "metadata": {},
   "outputs": [],
   "source": [
    "df = df.rename(columns = {\n",
    "                'At current prices 2018_19_Gross Distric Domestic Product(GDDP) in Lakhs ':'gddp_2018_2019',\n",
    "                'At current price 2018_19_Net District Domestic Product (NDDP) Rs in Lakhs ':'nddp_2018_2019',\n",
    "                'At constan price 2011-12_Gross distric Domestic Product(GDDP) Rs in Lakhs ':'gddp_2011_2012',\n",
    "                'At constan price 2011_12_Net District Domestic Product (NDDP) Rs in Lakhs ':'nddp_2011_2012',\n",
    "                'Per capita income in Rs_2018_19_At Current Prices ':'pci_2018_2019',\n",
    "                'Per capita income in Rs_2011_12_At Constant Prices ':'pci_2011_2012'              \n",
    "                \n",
    "                })"
   ]
  },
  {
   "cell_type": "code",
   "execution_count": 14,
   "metadata": {},
   "outputs": [
    {
     "data": {
      "text/html": [
       "<div>\n",
       "<style scoped>\n",
       "    .dataframe tbody tr th:only-of-type {\n",
       "        vertical-align: middle;\n",
       "    }\n",
       "\n",
       "    .dataframe tbody tr th {\n",
       "        vertical-align: top;\n",
       "    }\n",
       "\n",
       "    .dataframe thead th {\n",
       "        text-align: right;\n",
       "    }\n",
       "</style>\n",
       "<table border=\"1\" class=\"dataframe\">\n",
       "  <thead>\n",
       "    <tr style=\"text-align: right;\">\n",
       "      <th></th>\n",
       "      <th>taluk_name</th>\n",
       "      <th>gddp_2018_2019</th>\n",
       "      <th>nddp_2018_2019</th>\n",
       "      <th>gddp_2011_2012</th>\n",
       "      <th>nddp_2011_2012</th>\n",
       "      <th>pci_2018_2019</th>\n",
       "      <th>pci_2011_2012</th>\n",
       "    </tr>\n",
       "  </thead>\n",
       "  <tbody>\n",
       "    <tr>\n",
       "      <th>0</th>\n",
       "      <td>Afzalpur</td>\n",
       "      <td>203585</td>\n",
       "      <td>186705</td>\n",
       "      <td>154500</td>\n",
       "      <td>140566</td>\n",
       "      <td>79768</td>\n",
       "      <td>60056</td>\n",
       "    </tr>\n",
       "    <tr>\n",
       "      <th>1</th>\n",
       "      <td>Ajjampura</td>\n",
       "      <td>0</td>\n",
       "      <td>0</td>\n",
       "      <td>0</td>\n",
       "      <td>0</td>\n",
       "      <td>0</td>\n",
       "      <td>0</td>\n",
       "    </tr>\n",
       "    <tr>\n",
       "      <th>2</th>\n",
       "      <td>Aland</td>\n",
       "      <td>307670</td>\n",
       "      <td>281068</td>\n",
       "      <td>238213</td>\n",
       "      <td>215771</td>\n",
       "      <td>77319</td>\n",
       "      <td>59356</td>\n",
       "    </tr>\n",
       "    <tr>\n",
       "      <th>3</th>\n",
       "      <td>Alnavara</td>\n",
       "      <td>0</td>\n",
       "      <td>0</td>\n",
       "      <td>0</td>\n",
       "      <td>0</td>\n",
       "      <td>0</td>\n",
       "      <td>0</td>\n",
       "    </tr>\n",
       "    <tr>\n",
       "      <th>4</th>\n",
       "      <td>Alur</td>\n",
       "      <td>108683</td>\n",
       "      <td>97704</td>\n",
       "      <td>83536</td>\n",
       "      <td>74134</td>\n",
       "      <td>107884</td>\n",
       "      <td>81858</td>\n",
       "    </tr>\n",
       "  </tbody>\n",
       "</table>\n",
       "</div>"
      ],
      "text/plain": [
       "  taluk_name  gddp_2018_2019  nddp_2018_2019  gddp_2011_2012  nddp_2011_2012  \\\n",
       "0   Afzalpur          203585          186705          154500          140566   \n",
       "1  Ajjampura               0               0               0               0   \n",
       "2      Aland          307670          281068          238213          215771   \n",
       "3   Alnavara               0               0               0               0   \n",
       "4       Alur          108683           97704           83536           74134   \n",
       "\n",
       "   pci_2018_2019  pci_2011_2012  \n",
       "0          79768          60056  \n",
       "1              0              0  \n",
       "2          77319          59356  \n",
       "3              0              0  \n",
       "4         107884          81858  "
      ]
     },
     "execution_count": 14,
     "metadata": {},
     "output_type": "execute_result"
    }
   ],
   "source": [
    "df.head()"
   ]
  },
  {
   "cell_type": "code",
   "execution_count": null,
   "metadata": {},
   "outputs": [],
   "source": []
  },
  {
   "cell_type": "code",
   "execution_count": null,
   "metadata": {},
   "outputs": [],
   "source": []
  },
  {
   "cell_type": "code",
   "execution_count": null,
   "metadata": {},
   "outputs": [],
   "source": []
  },
  {
   "cell_type": "markdown",
   "metadata": {},
   "source": []
  },
  {
   "cell_type": "code",
   "execution_count": null,
   "metadata": {},
   "outputs": [],
   "source": []
  }
 ],
 "metadata": {
  "kernelspec": {
   "display_name": "Python 3 (ipykernel)",
   "language": "python",
   "name": "python3"
  },
  "language_info": {
   "codemirror_mode": {
    "name": "ipython",
    "version": 3
   },
   "file_extension": ".py",
   "mimetype": "text/x-python",
   "name": "python",
   "nbconvert_exporter": "python",
   "pygments_lexer": "ipython3",
   "version": "3.12.1"
  }
 },
 "nbformat": 4,
 "nbformat_minor": 2
}
